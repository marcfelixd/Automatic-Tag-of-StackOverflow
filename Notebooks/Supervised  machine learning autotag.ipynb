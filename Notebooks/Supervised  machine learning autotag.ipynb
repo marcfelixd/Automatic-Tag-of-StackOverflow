{
 "cells": [
  {
   "cell_type": "markdown",
   "metadata": {
    "ExecuteTime": {
     "end_time": "2018-07-16T13:55:27.795092Z",
     "start_time": "2018-07-16T13:55:27.389577Z"
    },
    "heading_collapsed": true
   },
   "source": [
    "### Pakage importation"
   ]
  },
  {
   "cell_type": "code",
   "execution_count": 1,
   "metadata": {
    "ExecuteTime": {
     "end_time": "2018-11-02T10:22:08.281468Z",
     "start_time": "2018-11-02T10:21:58.519203Z"
    },
    "hidden": true
   },
   "outputs": [
    {
     "name": "stderr",
     "output_type": "stream",
     "text": [
      "C:\\Users\\mdegni\\AppData\\Local\\Continuum\\anaconda3\\lib\\site-packages\\gensim\\utils.py:1197: UserWarning: detected Windows; aliasing chunkize to chunkize_serial\n",
      "  warnings.warn(\"detected Windows; aliasing chunkize to chunkize_serial\")\n"
     ]
    },
    {
     "data": {
      "application/vnd.jupyter.widget-view+json": {
       "model_id": "e526cf67400646bbae2d2f3979676c63",
       "version_major": 2,
       "version_minor": 0
      },
      "text/html": [
       "<p>Failed to display Jupyter Widget of type <code>HBox</code>.</p>\n",
       "<p>\n",
       "  If you're reading this message in the Jupyter Notebook or JupyterLab Notebook, it may mean\n",
       "  that the widgets JavaScript is still loading. If this message persists, it\n",
       "  likely means that the widgets JavaScript library is either not installed or\n",
       "  not enabled. See the <a href=\"https://ipywidgets.readthedocs.io/en/stable/user_install.html\">Jupyter\n",
       "  Widgets Documentation</a> for setup instructions.\n",
       "</p>\n",
       "<p>\n",
       "  If you're reading this message in another frontend (for example, a static\n",
       "  rendering on GitHub or <a href=\"https://nbviewer.jupyter.org/\">NBViewer</a>),\n",
       "  it may mean that your frontend doesn't currently support widgets.\n",
       "</p>\n"
      ],
      "text/plain": [
       "HBox(children=(IntProgress(value=1, bar_style='info', max=1), HTML(value='')))"
      ]
     },
     "metadata": {},
     "output_type": "display_data"
    },
    {
     "data": {
      "text/plain": [
       "0it [00:00, ?it/s]"
      ]
     },
     "execution_count": 1,
     "metadata": {},
     "output_type": "execute_result"
    }
   ],
   "source": [
    "import pandas as pd\n",
    "import nltk\n",
    "import numpy as np\n",
    "from bs4 import BeautifulSoup\n",
    "import stop_words\n",
    "import re, sys\n",
    "import spacy\n",
    "import pickle\n",
    "from gensim.models import Phrases, phrases\n",
    "from gensim import models, corpora\n",
    "import pyLDAvis.gensim\n",
    "from gensim.models import coherencemodel\n",
    "from gensim.models.coherencemodel import CoherenceModel\n",
    "from time import sleep\n",
    "import matplotlib.pyplot as plt\n",
    "import seaborn as sns\n",
    "import sklearn\n",
    "from sklearn.model_selection import train_test_split, cross_val_score, GridSearchCV\n",
    "from sklearn.feature_extraction.text import TfidfVectorizer\n",
    "from sklearn.feature_extraction.text import CountVectorizer\n",
    "from sklearn.feature_extraction.text import TfidfTransformer\n",
    "from sklearn import preprocessing\n",
    "from sklearn.pipeline import Pipeline\n",
    "from sklearn.metrics import accuracy_score\n",
    "from sklearn.multiclass import OneVsRestClassifier\n",
    "from sklearn.naive_bayes import MultinomialNB\n",
    "import warnings\n",
    "warnings.filterwarnings('ignore')\n",
    "pd.set_option('display.max_colwidth', -1)\n",
    "from tqdm import tqdm, tqdm_notebook # progress bars in Jupyter\n",
    "tqdm.pandas()\n",
    "tqdm_notebook()"
   ]
  },
  {
   "cell_type": "markdown",
   "metadata": {
    "heading_collapsed": true
   },
   "source": [
    "### Importing Data Set "
   ]
  },
  {
   "cell_type": "code",
   "execution_count": 2,
   "metadata": {
    "ExecuteTime": {
     "end_time": "2018-11-02T10:22:08.807636Z",
     "start_time": "2018-11-02T10:22:08.290492Z"
    },
    "hidden": true
   },
   "outputs": [],
   "source": [
    "data = pd.read_csv('QueryResults.csv')\n",
    "data.dropna(subset=['Tags'], inplace=True)"
   ]
  },
  {
   "cell_type": "code",
   "execution_count": 3,
   "metadata": {
    "ExecuteTime": {
     "end_time": "2018-11-02T10:22:08.821677Z",
     "start_time": "2018-11-02T10:22:08.810645Z"
    },
    "hidden": true
   },
   "outputs": [
    {
     "data": {
      "text/plain": [
       "(5522, 22)"
      ]
     },
     "execution_count": 3,
     "metadata": {},
     "output_type": "execute_result"
    }
   ],
   "source": [
    "data.shape"
   ]
  },
  {
   "cell_type": "markdown",
   "metadata": {
    "heading_collapsed": true
   },
   "source": [
    "### Preprocessing"
   ]
  },
  {
   "cell_type": "markdown",
   "metadata": {
    "hidden": true
   },
   "source": [
    "#### Dealing with Tag"
   ]
  },
  {
   "cell_type": "code",
   "execution_count": 4,
   "metadata": {
    "ExecuteTime": {
     "end_time": "2018-11-02T10:22:08.856771Z",
     "start_time": "2018-11-02T10:22:08.829695Z"
    },
    "hidden": true
   },
   "outputs": [],
   "source": [
    "# Def function for regular expressions\n",
    "def reg_function(x):\n",
    "    tokenizer = nltk.RegexpTokenizer(r'<.*?>')\n",
    "    if x == x:\n",
    "        x = tokenizer.tokenize(x.lower())\n",
    "        for tag in range(len(x)):\n",
    "            x[tag] = x[tag].strip('>').strip('<')\n",
    "    return x\n",
    "\n",
    "def normalize(data, col):\n",
    "    #data[col].dropna(inplace=True)\n",
    "    data['token_tag'] = data[col].apply(reg_function)\n",
    "#     data[['token_tag']].dropna(inplace=True)\n",
    "    return data[['token_tag']].head()"
   ]
  },
  {
   "cell_type": "code",
   "execution_count": 5,
   "metadata": {
    "ExecuteTime": {
     "end_time": "2018-11-02T10:22:08.960741Z",
     "start_time": "2018-11-02T10:22:08.860790Z"
    },
    "hidden": true
   },
   "outputs": [
    {
     "data": {
      "text/html": [
       "<div>\n",
       "<style scoped>\n",
       "    .dataframe tbody tr th:only-of-type {\n",
       "        vertical-align: middle;\n",
       "    }\n",
       "\n",
       "    .dataframe tbody tr th {\n",
       "        vertical-align: top;\n",
       "    }\n",
       "\n",
       "    .dataframe thead th {\n",
       "        text-align: right;\n",
       "    }\n",
       "</style>\n",
       "<table border=\"1\" class=\"dataframe\">\n",
       "  <thead>\n",
       "    <tr style=\"text-align: right;\">\n",
       "      <th></th>\n",
       "      <th>token_tag</th>\n",
       "    </tr>\n",
       "  </thead>\n",
       "  <tbody>\n",
       "    <tr>\n",
       "      <th>0</th>\n",
       "      <td>[c#, floating-point, type-conversion, double, decimal]</td>\n",
       "    </tr>\n",
       "    <tr>\n",
       "      <th>1</th>\n",
       "      <td>[html, css, css3, internet-explorer-7]</td>\n",
       "    </tr>\n",
       "    <tr>\n",
       "      <th>3</th>\n",
       "      <td>[c#, .net, datetime]</td>\n",
       "    </tr>\n",
       "    <tr>\n",
       "      <th>4</th>\n",
       "      <td>[c#, datetime, time, datediff, relative-time-span]</td>\n",
       "    </tr>\n",
       "    <tr>\n",
       "      <th>6</th>\n",
       "      <td>[javascript, html, browser, timezone, timezoneoffset]</td>\n",
       "    </tr>\n",
       "  </tbody>\n",
       "</table>\n",
       "</div>"
      ],
      "text/plain": [
       "                                                token_tag\n",
       "0  [c#, floating-point, type-conversion, double, decimal]\n",
       "1  [html, css, css3, internet-explorer-7]                \n",
       "3  [c#, .net, datetime]                                  \n",
       "4  [c#, datetime, time, datediff, relative-time-span]    \n",
       "6  [javascript, html, browser, timezone, timezoneoffset] "
      ]
     },
     "execution_count": 5,
     "metadata": {},
     "output_type": "execute_result"
    }
   ],
   "source": [
    "normalize(data, 'Tags')"
   ]
  },
  {
   "cell_type": "code",
   "execution_count": 6,
   "metadata": {
    "ExecuteTime": {
     "end_time": "2018-11-02T10:22:09.040962Z",
     "start_time": "2018-11-02T10:22:08.965760Z"
    },
    "hidden": true
   },
   "outputs": [
    {
     "name": "stdout",
     "output_type": "stream",
     "text": [
      "top_tags loaded\n"
     ]
    }
   ],
   "source": [
    "def load_obj(name):\n",
    "    print(name, 'loaded')\n",
    "    with open(name, 'rb') as f:\n",
    "        return pickle.load(f)\n",
    "#-------------------------------------------------------------------------------------------------------\n",
    "max_features_tags = 1500\n",
    "\n",
    "# Liste de tous les tags\n",
    "top_tags = load_obj('top_tags')\n",
    "\n",
    "# Liste des tags\n",
    "max_tags = []\n",
    "for i in range(0, max_features_tags):\n",
    "    max_tags.append(top_tags[i][0])\n",
    "\n",
    "# Méthode pour enlever les tags hors de la liste officielle de classification\n",
    "def cleanTags(p_val):\n",
    "    ret = []\n",
    "    for word in str(p_val).split():\n",
    "        if word in max_tags:\n",
    "            ret.append(word)\n",
    "    return \" \".join(ret)\n",
    "\n",
    "def trans(val):\n",
    "    val = \" \".join(str(x) for x in val)\n",
    "    return val\n",
    "#------------------------------------------------------------------------------------------------------\n",
    "\n",
    "def delete_nonrelevant_tag(data):\n",
    "    # On enlève tous les tags qui ne font pas parti du top choisi\n",
    "    data['tokens_tag_true'] = data['token_tag'].apply(trans).apply(cleanTags)\n",
    "\n",
    "    # On enlève de l'entrainement les données qui se retrouvent sans target\n",
    "    data = data[data['tokens_tag_true'].str.len()>0]\n",
    "    print(data.shape)"
   ]
  },
  {
   "cell_type": "code",
   "execution_count": 8,
   "metadata": {
    "ExecuteTime": {
     "end_time": "2018-11-02T10:22:09.223492Z",
     "start_time": "2018-11-02T10:22:09.067048Z"
    },
    "hidden": true
   },
   "outputs": [
    {
     "name": "stdout",
     "output_type": "stream",
     "text": [
      "(5479, 24)\n"
     ]
    }
   ],
   "source": [
    "delete_nonrelevant_tag(data)"
   ]
  },
  {
   "cell_type": "code",
   "execution_count": 10,
   "metadata": {
    "ExecuteTime": {
     "end_time": "2018-11-02T10:22:09.567965Z",
     "start_time": "2018-11-02T10:22:09.525842Z"
    },
    "hidden": true,
    "scrolled": true
   },
   "outputs": [
    {
     "data": {
      "text/html": [
       "<div>\n",
       "<style scoped>\n",
       "    .dataframe tbody tr th:only-of-type {\n",
       "        vertical-align: middle;\n",
       "    }\n",
       "\n",
       "    .dataframe tbody tr th {\n",
       "        vertical-align: top;\n",
       "    }\n",
       "\n",
       "    .dataframe thead th {\n",
       "        text-align: right;\n",
       "    }\n",
       "</style>\n",
       "<table border=\"1\" class=\"dataframe\">\n",
       "  <thead>\n",
       "    <tr style=\"text-align: right;\">\n",
       "      <th></th>\n",
       "      <th>token_tag</th>\n",
       "    </tr>\n",
       "  </thead>\n",
       "  <tbody>\n",
       "    <tr>\n",
       "      <th>0</th>\n",
       "      <td>[c#, floating-point, type-conversion, double, decimal]</td>\n",
       "    </tr>\n",
       "    <tr>\n",
       "      <th>1</th>\n",
       "      <td>[html, css, css3, internet-explorer-7]</td>\n",
       "    </tr>\n",
       "    <tr>\n",
       "      <th>3</th>\n",
       "      <td>[c#, .net, datetime]</td>\n",
       "    </tr>\n",
       "    <tr>\n",
       "      <th>4</th>\n",
       "      <td>[c#, datetime, time, datediff, relative-time-span]</td>\n",
       "    </tr>\n",
       "    <tr>\n",
       "      <th>6</th>\n",
       "      <td>[javascript, html, browser, timezone, timezoneoffset]</td>\n",
       "    </tr>\n",
       "    <tr>\n",
       "      <th>7</th>\n",
       "      <td>[.net, math]</td>\n",
       "    </tr>\n",
       "    <tr>\n",
       "      <th>8</th>\n",
       "      <td>[c#, linq, web-services, .net-3.5]</td>\n",
       "    </tr>\n",
       "    <tr>\n",
       "      <th>9</th>\n",
       "      <td>[mysql, database, binary-data, data-storage]</td>\n",
       "    </tr>\n",
       "    <tr>\n",
       "      <th>11</th>\n",
       "      <td>[performance, algorithm, language-agnostic, unix, pi]</td>\n",
       "    </tr>\n",
       "    <tr>\n",
       "      <th>14</th>\n",
       "      <td>[mysql, database, triggers]</td>\n",
       "    </tr>\n",
       "    <tr>\n",
       "      <th>15</th>\n",
       "      <td>[c++, c, sockets, mainframe, zos]</td>\n",
       "    </tr>\n",
       "    <tr>\n",
       "      <th>22</th>\n",
       "      <td>[arrays, actionscript-3, flex]</td>\n",
       "    </tr>\n",
       "    <tr>\n",
       "      <th>23</th>\n",
       "      <td>[sql, sql-server, datatable, rdbms]</td>\n",
       "    </tr>\n",
       "    <tr>\n",
       "      <th>24</th>\n",
       "      <td>[c#, .net, vb.net, timer]</td>\n",
       "    </tr>\n",
       "    <tr>\n",
       "      <th>25</th>\n",
       "      <td>[php, plugins, architecture, hook]</td>\n",
       "    </tr>\n",
       "    <tr>\n",
       "      <th>28</th>\n",
       "      <td>[html, form-submit, html-form, submit-button]</td>\n",
       "    </tr>\n",
       "    <tr>\n",
       "      <th>35</th>\n",
       "      <td>[c#, linq, .net-3.5]</td>\n",
       "    </tr>\n",
       "    <tr>\n",
       "      <th>37</th>\n",
       "      <td>[mime, file-type, office-2007]</td>\n",
       "    </tr>\n",
       "    <tr>\n",
       "      <th>40</th>\n",
       "      <td>[linq, .net-3.5]</td>\n",
       "    </tr>\n",
       "    <tr>\n",
       "      <th>43</th>\n",
       "      <td>[ruby, rdoc]</td>\n",
       "    </tr>\n",
       "    <tr>\n",
       "      <th>48</th>\n",
       "      <td>[eclipse, svn, aptana, subclipse]</td>\n",
       "    </tr>\n",
       "    <tr>\n",
       "      <th>49</th>\n",
       "      <td>[flex, actionscript-3, air]</td>\n",
       "    </tr>\n",
       "    <tr>\n",
       "      <th>53</th>\n",
       "      <td>[php, sql, database, flat-file]</td>\n",
       "    </tr>\n",
       "    <tr>\n",
       "      <th>56</th>\n",
       "      <td>[linux, winapi, visual-c++, unix, timer]</td>\n",
       "    </tr>\n",
       "    <tr>\n",
       "      <th>58</th>\n",
       "      <td>[svn, tortoisesvn, branch, branching-and-merging]</td>\n",
       "    </tr>\n",
       "    <tr>\n",
       "      <th>65</th>\n",
       "      <td>[.net, performance, memory-leaks, com-interop]</td>\n",
       "    </tr>\n",
       "    <tr>\n",
       "      <th>67</th>\n",
       "      <td>[windows, svn, 64bit]</td>\n",
       "    </tr>\n",
       "    <tr>\n",
       "      <th>68</th>\n",
       "      <td>[c#, sql, vb.net, ascii, hex]</td>\n",
       "    </tr>\n",
       "    <tr>\n",
       "      <th>75</th>\n",
       "      <td>[sql, asp.net, xml, sitemap]</td>\n",
       "    </tr>\n",
       "    <tr>\n",
       "      <th>76</th>\n",
       "      <td>[java, xml, csv, data-conversion]</td>\n",
       "    </tr>\n",
       "    <tr>\n",
       "      <th>...</th>\n",
       "      <td>...</td>\n",
       "    </tr>\n",
       "    <tr>\n",
       "      <th>27225</th>\n",
       "      <td>[reflection]</td>\n",
       "    </tr>\n",
       "    <tr>\n",
       "      <th>27232</th>\n",
       "      <td>[.net, winforms, updating]</td>\n",
       "    </tr>\n",
       "    <tr>\n",
       "      <th>27240</th>\n",
       "      <td>[design-patterns, undo]</td>\n",
       "    </tr>\n",
       "    <tr>\n",
       "      <th>27242</th>\n",
       "      <td>[c#, design, key-value]</td>\n",
       "    </tr>\n",
       "    <tr>\n",
       "      <th>27268</th>\n",
       "      <td>[html, forms, cross-browser, specifications]</td>\n",
       "    </tr>\n",
       "    <tr>\n",
       "      <th>27272</th>\n",
       "      <td>[.net, winforms, multithreading, user-interface]</td>\n",
       "    </tr>\n",
       "    <tr>\n",
       "      <th>27278</th>\n",
       "      <td>[mfc, focus, activation]</td>\n",
       "    </tr>\n",
       "    <tr>\n",
       "      <th>27280</th>\n",
       "      <td>[c#, .net]</td>\n",
       "    </tr>\n",
       "    <tr>\n",
       "      <th>27292</th>\n",
       "      <td>[java, python]</td>\n",
       "    </tr>\n",
       "    <tr>\n",
       "      <th>27311</th>\n",
       "      <td>[sql-server, backup]</td>\n",
       "    </tr>\n",
       "    <tr>\n",
       "      <th>27325</th>\n",
       "      <td>[.net, multithreading, reference]</td>\n",
       "    </tr>\n",
       "    <tr>\n",
       "      <th>27330</th>\n",
       "      <td>[sql-server, olap, cubes]</td>\n",
       "    </tr>\n",
       "    <tr>\n",
       "      <th>27333</th>\n",
       "      <td>[visual-studio, colors]</td>\n",
       "    </tr>\n",
       "    <tr>\n",
       "      <th>27336</th>\n",
       "      <td>[xslt, sorting]</td>\n",
       "    </tr>\n",
       "    <tr>\n",
       "      <th>27340</th>\n",
       "      <td>[php, mediawiki]</td>\n",
       "    </tr>\n",
       "    <tr>\n",
       "      <th>27344</th>\n",
       "      <td>[ssh]</td>\n",
       "    </tr>\n",
       "    <tr>\n",
       "      <th>27346</th>\n",
       "      <td>[java, build-process, build-automation, ant]</td>\n",
       "    </tr>\n",
       "    <tr>\n",
       "      <th>27348</th>\n",
       "      <td>[dasblog]</td>\n",
       "    </tr>\n",
       "    <tr>\n",
       "      <th>27351</th>\n",
       "      <td>[c#, .net, profiling, profiler]</td>\n",
       "    </tr>\n",
       "    <tr>\n",
       "      <th>27355</th>\n",
       "      <td>[asp.net, regex]</td>\n",
       "    </tr>\n",
       "    <tr>\n",
       "      <th>27360</th>\n",
       "      <td>[sql, union, union-all]</td>\n",
       "    </tr>\n",
       "    <tr>\n",
       "      <th>27361</th>\n",
       "      <td>[python, matlab, numpy, numerical, scientific-computing]</td>\n",
       "    </tr>\n",
       "    <tr>\n",
       "      <th>27368</th>\n",
       "      <td>[c, macos, 64bit, 32-bit]</td>\n",
       "    </tr>\n",
       "    <tr>\n",
       "      <th>27371</th>\n",
       "      <td>[code-review, code-analysis, dynamic-analysis]</td>\n",
       "    </tr>\n",
       "    <tr>\n",
       "      <th>27382</th>\n",
       "      <td>[.net, garbage-collection]</td>\n",
       "    </tr>\n",
       "    <tr>\n",
       "      <th>27393</th>\n",
       "      <td>[operating-system, kernel, scheduling]</td>\n",
       "    </tr>\n",
       "    <tr>\n",
       "      <th>27394</th>\n",
       "      <td>[excel, excel-vba, vba]</td>\n",
       "    </tr>\n",
       "    <tr>\n",
       "      <th>27396</th>\n",
       "      <td>[html, css]</td>\n",
       "    </tr>\n",
       "    <tr>\n",
       "      <th>27398</th>\n",
       "      <td>[.net, dll]</td>\n",
       "    </tr>\n",
       "    <tr>\n",
       "      <th>27407</th>\n",
       "      <td>[windows]</td>\n",
       "    </tr>\n",
       "  </tbody>\n",
       "</table>\n",
       "<p>5522 rows × 1 columns</p>\n",
       "</div>"
      ],
      "text/plain": [
       "                                                      token_tag\n",
       "0      [c#, floating-point, type-conversion, double, decimal]  \n",
       "1      [html, css, css3, internet-explorer-7]                  \n",
       "3      [c#, .net, datetime]                                    \n",
       "4      [c#, datetime, time, datediff, relative-time-span]      \n",
       "6      [javascript, html, browser, timezone, timezoneoffset]   \n",
       "7      [.net, math]                                            \n",
       "8      [c#, linq, web-services, .net-3.5]                      \n",
       "9      [mysql, database, binary-data, data-storage]            \n",
       "11     [performance, algorithm, language-agnostic, unix, pi]   \n",
       "14     [mysql, database, triggers]                             \n",
       "15     [c++, c, sockets, mainframe, zos]                       \n",
       "22     [arrays, actionscript-3, flex]                          \n",
       "23     [sql, sql-server, datatable, rdbms]                     \n",
       "24     [c#, .net, vb.net, timer]                               \n",
       "25     [php, plugins, architecture, hook]                      \n",
       "28     [html, form-submit, html-form, submit-button]           \n",
       "35     [c#, linq, .net-3.5]                                    \n",
       "37     [mime, file-type, office-2007]                          \n",
       "40     [linq, .net-3.5]                                        \n",
       "43     [ruby, rdoc]                                            \n",
       "48     [eclipse, svn, aptana, subclipse]                       \n",
       "49     [flex, actionscript-3, air]                             \n",
       "53     [php, sql, database, flat-file]                         \n",
       "56     [linux, winapi, visual-c++, unix, timer]                \n",
       "58     [svn, tortoisesvn, branch, branching-and-merging]       \n",
       "65     [.net, performance, memory-leaks, com-interop]          \n",
       "67     [windows, svn, 64bit]                                   \n",
       "68     [c#, sql, vb.net, ascii, hex]                           \n",
       "75     [sql, asp.net, xml, sitemap]                            \n",
       "76     [java, xml, csv, data-conversion]                       \n",
       "...                                  ...                       \n",
       "27225  [reflection]                                            \n",
       "27232  [.net, winforms, updating]                              \n",
       "27240  [design-patterns, undo]                                 \n",
       "27242  [c#, design, key-value]                                 \n",
       "27268  [html, forms, cross-browser, specifications]            \n",
       "27272  [.net, winforms, multithreading, user-interface]        \n",
       "27278  [mfc, focus, activation]                                \n",
       "27280  [c#, .net]                                              \n",
       "27292  [java, python]                                          \n",
       "27311  [sql-server, backup]                                    \n",
       "27325  [.net, multithreading, reference]                       \n",
       "27330  [sql-server, olap, cubes]                               \n",
       "27333  [visual-studio, colors]                                 \n",
       "27336  [xslt, sorting]                                         \n",
       "27340  [php, mediawiki]                                        \n",
       "27344  [ssh]                                                   \n",
       "27346  [java, build-process, build-automation, ant]            \n",
       "27348  [dasblog]                                               \n",
       "27351  [c#, .net, profiling, profiler]                         \n",
       "27355  [asp.net, regex]                                        \n",
       "27360  [sql, union, union-all]                                 \n",
       "27361  [python, matlab, numpy, numerical, scientific-computing]\n",
       "27368  [c, macos, 64bit, 32-bit]                               \n",
       "27371  [code-review, code-analysis, dynamic-analysis]          \n",
       "27382  [.net, garbage-collection]                              \n",
       "27393  [operating-system, kernel, scheduling]                  \n",
       "27394  [excel, excel-vba, vba]                                 \n",
       "27396  [html, css]                                             \n",
       "27398  [.net, dll]                                             \n",
       "27407  [windows]                                               \n",
       "\n",
       "[5522 rows x 1 columns]"
      ]
     },
     "execution_count": 10,
     "metadata": {},
     "output_type": "execute_result"
    }
   ],
   "source": [
    "data[['token_tag']]"
   ]
  },
  {
   "cell_type": "markdown",
   "metadata": {
    "hidden": true
   },
   "source": [
    "#### Dealing with Body"
   ]
  },
  {
   "cell_type": "code",
   "execution_count": 11,
   "metadata": {
    "ExecuteTime": {
     "end_time": "2018-11-02T10:22:09.579998Z",
     "start_time": "2018-11-02T10:22:09.570973Z"
    },
    "hidden": true
   },
   "outputs": [],
   "source": [
    "# Merging Body and Title\n",
    "def merge(data, col1, col2):\n",
    "    data['Question'] = data[col1]+' '+data[col2]\n",
    "    return data[['Question']].head()"
   ]
  },
  {
   "cell_type": "code",
   "execution_count": 12,
   "metadata": {
    "ExecuteTime": {
     "end_time": "2018-11-02T10:22:09.687292Z",
     "start_time": "2018-11-02T10:22:09.583006Z"
    },
    "collapsed": true,
    "hidden": true
   },
   "outputs": [
    {
     "data": {
      "text/html": [
       "<div>\n",
       "<style scoped>\n",
       "    .dataframe tbody tr th:only-of-type {\n",
       "        vertical-align: middle;\n",
       "    }\n",
       "\n",
       "    .dataframe tbody tr th {\n",
       "        vertical-align: top;\n",
       "    }\n",
       "\n",
       "    .dataframe thead th {\n",
       "        text-align: right;\n",
       "    }\n",
       "</style>\n",
       "<table border=\"1\" class=\"dataframe\">\n",
       "  <thead>\n",
       "    <tr style=\"text-align: right;\">\n",
       "      <th></th>\n",
       "      <th>Question</th>\n",
       "    </tr>\n",
       "  </thead>\n",
       "  <tbody>\n",
       "    <tr>\n",
       "      <th>0</th>\n",
       "      <td>&lt;p&gt;I want to use a track-bar to change a form's opacity.&lt;/p&gt;\\n\\n&lt;p&gt;This is my code:&lt;/p&gt;\\n\\n&lt;pre&gt;&lt;code&gt;decimal trans = trackBar1.Value / 5000;\\nthis.Opacity = trans;\\n&lt;/code&gt;&lt;/pre&gt;\\n\\n&lt;p&gt;When I build the application, it gives the following error:&lt;/p&gt;\\n\\n&lt;blockquote&gt;\\n  &lt;p&gt;Cannot implicitly convert type &lt;code&gt;'decimal'&lt;/code&gt; to &lt;code&gt;'double'&lt;/code&gt;.&lt;/p&gt;\\n&lt;/blockquote&gt;\\n\\n&lt;p&gt;I tried using &lt;code&gt;trans&lt;/code&gt; and &lt;code&gt;double&lt;/code&gt; but then the control doesn't work. This code worked fine in a past VB.NET project.&lt;/p&gt;\\n Convert Decimal to Double?</td>\n",
       "    </tr>\n",
       "    <tr>\n",
       "      <th>1</th>\n",
       "      <td>&lt;p&gt;I have an absolutely positioned &lt;code&gt;div&lt;/code&gt; containing several children, one of which is a relatively positioned &lt;code&gt;div&lt;/code&gt;. When I use a &lt;strong&gt;percentage-based width&lt;/strong&gt; on the child &lt;code&gt;div&lt;/code&gt;, it collapses to '0' width on &lt;a href=\"http://en.wikipedia.org/wiki/Internet_Explorer_7\" rel=\"noreferrer\"&gt;Internet&amp;nbsp;Explorer&amp;nbsp;7&lt;/a&gt;, but not on Firefox or Safari.&lt;/p&gt;\\n\\n&lt;p&gt;If I use &lt;strong&gt;pixel width&lt;/strong&gt;, it works. If the parent is relatively positioned, the percentage width on the child works.&lt;/p&gt;\\n\\n&lt;ol&gt;\\n&lt;li&gt;Is there something I'm missing here?&lt;/li&gt;\\n&lt;li&gt;Is there an easy fix for this besides the &lt;em&gt;pixel-based width&lt;/em&gt; on the\\nchild?&lt;/li&gt;\\n&lt;li&gt;Is there an area of the CSS specification that covers this?&lt;/li&gt;\\n&lt;/ol&gt;\\n Percentage width child element in absolutely positioned parent on Internet Explorer 7</td>\n",
       "    </tr>\n",
       "    <tr>\n",
       "      <th>3</th>\n",
       "      <td>&lt;p&gt;Given a &lt;code&gt;DateTime&lt;/code&gt; representing a person's birthday, how do I calculate their age in years?  &lt;/p&gt;\\n How do I calculate someone's age in C#?</td>\n",
       "    </tr>\n",
       "    <tr>\n",
       "      <th>4</th>\n",
       "      <td>&lt;p&gt;Given a specific &lt;code&gt;DateTime&lt;/code&gt; value, how do I display relative time, like:&lt;/p&gt;\\n\\n&lt;ul&gt;\\n&lt;li&gt;2 hours ago&lt;/li&gt;\\n&lt;li&gt;3 days ago&lt;/li&gt;\\n&lt;li&gt;a month ago&lt;/li&gt;\\n&lt;/ul&gt;\\n Calculate relative time in C#</td>\n",
       "    </tr>\n",
       "    <tr>\n",
       "      <th>6</th>\n",
       "      <td>&lt;p&gt;Is there any standard way for a Web Server to be able to determine a user's timezone within a web page? &lt;/p&gt;\\n\\n&lt;p&gt;Perhaps from an HTTP header or part of the user-agent string?&lt;/p&gt;\\n Determine a User's Timezone</td>\n",
       "    </tr>\n",
       "  </tbody>\n",
       "</table>\n",
       "</div>"
      ],
      "text/plain": [
       "                                                                                                                                                                                                                                                                                                                                                                                                                                                                                                                                                                                                                                                                                                                                                                                                                                                                             Question\n",
       "0  <p>I want to use a track-bar to change a form's opacity.</p>\\n\\n<p>This is my code:</p>\\n\\n<pre><code>decimal trans = trackBar1.Value / 5000;\\nthis.Opacity = trans;\\n</code></pre>\\n\\n<p>When I build the application, it gives the following error:</p>\\n\\n<blockquote>\\n  <p>Cannot implicitly convert type <code>'decimal'</code> to <code>'double'</code>.</p>\\n</blockquote>\\n\\n<p>I tried using <code>trans</code> and <code>double</code> but then the control doesn't work. This code worked fine in a past VB.NET project.</p>\\n Convert Decimal to Double?                                                                                                                                                                                                                                                                                                             \n",
       "1  <p>I have an absolutely positioned <code>div</code> containing several children, one of which is a relatively positioned <code>div</code>. When I use a <strong>percentage-based width</strong> on the child <code>div</code>, it collapses to '0' width on <a href=\"http://en.wikipedia.org/wiki/Internet_Explorer_7\" rel=\"noreferrer\">Internet&nbsp;Explorer&nbsp;7</a>, but not on Firefox or Safari.</p>\\n\\n<p>If I use <strong>pixel width</strong>, it works. If the parent is relatively positioned, the percentage width on the child works.</p>\\n\\n<ol>\\n<li>Is there something I'm missing here?</li>\\n<li>Is there an easy fix for this besides the <em>pixel-based width</em> on the\\nchild?</li>\\n<li>Is there an area of the CSS specification that covers this?</li>\\n</ol>\\n Percentage width child element in absolutely positioned parent on Internet Explorer 7\n",
       "3  <p>Given a <code>DateTime</code> representing a person's birthday, how do I calculate their age in years?  </p>\\n How do I calculate someone's age in C#?                                                                                                                                                                                                                                                                                                                                                                                                                                                                                                                                                                                                                                                                                                                         \n",
       "4  <p>Given a specific <code>DateTime</code> value, how do I display relative time, like:</p>\\n\\n<ul>\\n<li>2 hours ago</li>\\n<li>3 days ago</li>\\n<li>a month ago</li>\\n</ul>\\n Calculate relative time in C#                                                                                                                                                                                                                                                                                                                                                                                                                                                                                                                                                                                                                                                                        \n",
       "6  <p>Is there any standard way for a Web Server to be able to determine a user's timezone within a web page? </p>\\n\\n<p>Perhaps from an HTTP header or part of the user-agent string?</p>\\n Determine a User's Timezone                                                                                                                                                                                                                                                                                                                                                                                                                                                                                                                                                                                                                                                             "
      ]
     },
     "execution_count": 12,
     "metadata": {},
     "output_type": "execute_result"
    }
   ],
   "source": [
    "merge(data, 'Body', 'Title')"
   ]
  },
  {
   "cell_type": "code",
   "execution_count": 13,
   "metadata": {
    "ExecuteTime": {
     "end_time": "2018-11-02T10:22:09.889847Z",
     "start_time": "2018-11-02T10:22:09.693308Z"
    },
    "hidden": true
   },
   "outputs": [],
   "source": [
    "# Cleaning text\n",
    "def virer(a,str1,str2): # Delete code windows\n",
    "    a=a.split(str1)\n",
    "    l=[]\n",
    "    for i in range(len(a)):\n",
    "        b=a[i].split(str2)\n",
    "        l.append(b)\n",
    "    for i in range(1,len(l)):\n",
    "        l[i].remove(l[i][0])  \n",
    "    s=\"\"\n",
    "    for i in range(len(l)):\n",
    "        s+=l[i][0]\n",
    "    return s\n",
    "\n",
    "def get_text(x):\n",
    "    x = str(x)\n",
    "    x=virer(x, \"<code>\",\"</code>\")\n",
    "#     x = virer(x,\"<blockquote>\",\"</blockquote>\")\n",
    "    x = BeautifulSoup(x, 'lxml').get_text() # Get text in htlm with beautifulsoup\n",
    "    tokenizer = nltk.RegexpTokenizer(r'\\w+') # Use regular expression to delete \\n\n",
    "    x = tokenizer.tokenize(x.lower()) # apply on x by tranforming x in lower character\n",
    "    return x\n",
    "\n",
    "# Creating token clean\n",
    "def tokenization(data, col):\n",
    "    data['token_questions'] = data[col].apply(get_text)\n",
    "    sw = stop_words.get_stop_words(language='en')\n",
    "    data['tokens_clean'] = data.token_questions.map(\n",
    "    lambda tok: [t.lower() for t in re.split(\" \", re.sub(r\"(\\W+|_|\\d+)\", \" \", \" \".join(tok)))\n",
    "                 if t.lower() not in sw and len(t) > 1]\n",
    "    )\n",
    "    return data[['tokens_clean']].head()\n",
    "\n",
    "# Lemarization\n",
    "def lematization(data, col):\n",
    "    lem = spacy.load('en_core_web_md')\n",
    "    data['tokens_clean_lemma'] = data[col].progress_map(\n",
    "    lambda x: [tok.lemma_ for tok in lem(' '.join(x))])\n",
    "    return data[['tokens_clean_lemma']].head()"
   ]
  },
  {
   "cell_type": "code",
   "execution_count": 14,
   "metadata": {
    "ExecuteTime": {
     "end_time": "2018-11-02T10:22:15.632513Z",
     "start_time": "2018-11-02T10:22:09.892855Z"
    },
    "hidden": true
   },
   "outputs": [
    {
     "data": {
      "text/html": [
       "<div>\n",
       "<style scoped>\n",
       "    .dataframe tbody tr th:only-of-type {\n",
       "        vertical-align: middle;\n",
       "    }\n",
       "\n",
       "    .dataframe tbody tr th {\n",
       "        vertical-align: top;\n",
       "    }\n",
       "\n",
       "    .dataframe thead th {\n",
       "        text-align: right;\n",
       "    }\n",
       "</style>\n",
       "<table border=\"1\" class=\"dataframe\">\n",
       "  <thead>\n",
       "    <tr style=\"text-align: right;\">\n",
       "      <th></th>\n",
       "      <th>tokens_clean</th>\n",
       "    </tr>\n",
       "  </thead>\n",
       "  <tbody>\n",
       "    <tr>\n",
       "      <th>0</th>\n",
       "      <td>[want, use, track, bar, change, form, opacity, code, build, application, gives, following, error, implicitly, convert, type, tried, using, control, doesn, work, code, worked, fine, past, vb, net, project, convert, decimal, double]</td>\n",
       "    </tr>\n",
       "    <tr>\n",
       "      <th>1</th>\n",
       "      <td>[absolutely, positioned, containing, several, children, one, relatively, positioned, use, percentage, based, width, child, collapses, width, internet, explorer, firefox, safari, use, pixel, width, works, parent, relatively, positioned, percentage, width, child, works, something, missing, easy, fix, besides, pixel, based, width, child, area, css, specification, covers, percentage, width, child, element, absolutely, positioned, parent, internet, explorer]</td>\n",
       "    </tr>\n",
       "    <tr>\n",
       "      <th>3</th>\n",
       "      <td>[given, representing, person, birthday, calculate, age, years, calculate, someone, age]</td>\n",
       "    </tr>\n",
       "    <tr>\n",
       "      <th>4</th>\n",
       "      <td>[given, specific, value, display, relative, time, like, hours, ago, days, ago, month, ago, calculate, relative, time]</td>\n",
       "    </tr>\n",
       "    <tr>\n",
       "      <th>6</th>\n",
       "      <td>[standard, way, web, server, able, determine, user, timezone, within, web, page, perhaps, http, header, part, user, agent, string, determine, user, timezone]</td>\n",
       "    </tr>\n",
       "  </tbody>\n",
       "</table>\n",
       "</div>"
      ],
      "text/plain": [
       "                                                                                                                                                                                                                                                                                                                                                                                                                                                                tokens_clean\n",
       "0  [want, use, track, bar, change, form, opacity, code, build, application, gives, following, error, implicitly, convert, type, tried, using, control, doesn, work, code, worked, fine, past, vb, net, project, convert, decimal, double]                                                                                                                                                                                                                                   \n",
       "1  [absolutely, positioned, containing, several, children, one, relatively, positioned, use, percentage, based, width, child, collapses, width, internet, explorer, firefox, safari, use, pixel, width, works, parent, relatively, positioned, percentage, width, child, works, something, missing, easy, fix, besides, pixel, based, width, child, area, css, specification, covers, percentage, width, child, element, absolutely, positioned, parent, internet, explorer]\n",
       "3  [given, representing, person, birthday, calculate, age, years, calculate, someone, age]                                                                                                                                                                                                                                                                                                                                                                                  \n",
       "4  [given, specific, value, display, relative, time, like, hours, ago, days, ago, month, ago, calculate, relative, time]                                                                                                                                                                                                                                                                                                                                                    \n",
       "6  [standard, way, web, server, able, determine, user, timezone, within, web, page, perhaps, http, header, part, user, agent, string, determine, user, timezone]                                                                                                                                                                                                                                                                                                            "
      ]
     },
     "execution_count": 14,
     "metadata": {},
     "output_type": "execute_result"
    }
   ],
   "source": [
    "tokenization(data, 'Question')"
   ]
  },
  {
   "cell_type": "code",
   "execution_count": 15,
   "metadata": {
    "ExecuteTime": {
     "end_time": "2018-11-02T10:24:53.129508Z",
     "start_time": "2018-11-02T10:22:15.636537Z"
    },
    "hidden": true
   },
   "outputs": [
    {
     "name": "stderr",
     "output_type": "stream",
     "text": [
      "100%|██████████████████████████████████████████████████████████████████████████████| 5522/5522 [02:18<00:00, 39.94it/s]\n"
     ]
    },
    {
     "data": {
      "text/html": [
       "<div>\n",
       "<style scoped>\n",
       "    .dataframe tbody tr th:only-of-type {\n",
       "        vertical-align: middle;\n",
       "    }\n",
       "\n",
       "    .dataframe tbody tr th {\n",
       "        vertical-align: top;\n",
       "    }\n",
       "\n",
       "    .dataframe thead th {\n",
       "        text-align: right;\n",
       "    }\n",
       "</style>\n",
       "<table border=\"1\" class=\"dataframe\">\n",
       "  <thead>\n",
       "    <tr style=\"text-align: right;\">\n",
       "      <th></th>\n",
       "      <th>tokens_clean_lemma</th>\n",
       "    </tr>\n",
       "  </thead>\n",
       "  <tbody>\n",
       "    <tr>\n",
       "      <th>0</th>\n",
       "      <td>[want, use, track, bar, change, form, opacity, code, build, application, give, follow, error, implicitly, convert, type, try, use, control, doesn, work, code, work, fine, past, vb, net, project, convert, decimal, double]</td>\n",
       "    </tr>\n",
       "    <tr>\n",
       "      <th>1</th>\n",
       "      <td>[absolutely, position, contain, several, child, one, relatively, position, use, percentage, base, width, child, collapse, width, internet, explorer, firefox, safari, use, pixel, width, work, parent, relatively, position, percentage, width, child, work, something, miss, easy, fix, besides, pixel, base, width, child, area, css, specification, cover, percentage, width, child, element, absolutely, position, parent, internet, explorer]</td>\n",
       "    </tr>\n",
       "    <tr>\n",
       "      <th>3</th>\n",
       "      <td>[give, represent, person, birthday, calculate, age, year, calculate, someone, age]</td>\n",
       "    </tr>\n",
       "    <tr>\n",
       "      <th>4</th>\n",
       "      <td>[give, specific, value, display, relative, time, like, hour, ago, day, ago, month, ago, calculate, relative, time]</td>\n",
       "    </tr>\n",
       "    <tr>\n",
       "      <th>6</th>\n",
       "      <td>[standard, way, web, server, able, determine, user, timezone, within, web, page, perhaps, http, header, part, user, agent, string, determine, user, timezone]</td>\n",
       "    </tr>\n",
       "  </tbody>\n",
       "</table>\n",
       "</div>"
      ],
      "text/plain": [
       "                                                                                                                                                                                                                                                                                                                                                                                                                                   tokens_clean_lemma\n",
       "0  [want, use, track, bar, change, form, opacity, code, build, application, give, follow, error, implicitly, convert, type, try, use, control, doesn, work, code, work, fine, past, vb, net, project, convert, decimal, double]                                                                                                                                                                                                                      \n",
       "1  [absolutely, position, contain, several, child, one, relatively, position, use, percentage, base, width, child, collapse, width, internet, explorer, firefox, safari, use, pixel, width, work, parent, relatively, position, percentage, width, child, work, something, miss, easy, fix, besides, pixel, base, width, child, area, css, specification, cover, percentage, width, child, element, absolutely, position, parent, internet, explorer]\n",
       "3  [give, represent, person, birthday, calculate, age, year, calculate, someone, age]                                                                                                                                                                                                                                                                                                                                                                \n",
       "4  [give, specific, value, display, relative, time, like, hour, ago, day, ago, month, ago, calculate, relative, time]                                                                                                                                                                                                                                                                                                                                \n",
       "6  [standard, way, web, server, able, determine, user, timezone, within, web, page, perhaps, http, header, part, user, agent, string, determine, user, timezone]                                                                                                                                                                                                                                                                                     "
      ]
     },
     "execution_count": 15,
     "metadata": {},
     "output_type": "execute_result"
    }
   ],
   "source": [
    "lematization(data, 'tokens_clean')"
   ]
  },
  {
   "cell_type": "code",
   "execution_count": 16,
   "metadata": {
    "ExecuteTime": {
     "end_time": "2018-11-02T10:24:53.145549Z",
     "start_time": "2018-11-02T10:24:53.133518Z"
    },
    "hidden": true
   },
   "outputs": [],
   "source": [
    "def pass_list(df, col):\n",
    "\n",
    "    for x in col:\n",
    "        l=[]\n",
    "        for j in range(len(df)):\n",
    "            l.append(str(df[x].loc[j]).replace('[',\"\").replace(']',\"\").replace(\"'\",\"\").split(', '))\n",
    "        df[x]=l"
   ]
  },
  {
   "cell_type": "code",
   "execution_count": 17,
   "metadata": {
    "ExecuteTime": {
     "end_time": "2018-11-02T10:24:53.164604Z",
     "start_time": "2018-11-02T10:24:53.149560Z"
    },
    "hidden": true
   },
   "outputs": [],
   "source": [
    "# pass_list(data, ['token_tag','tokens_clean','tokens_clean_lemma'])"
   ]
  },
  {
   "cell_type": "markdown",
   "metadata": {
    "heading_collapsed": true
   },
   "source": [
    "### TF-IDF bag of words"
   ]
  },
  {
   "cell_type": "code",
   "execution_count": 18,
   "metadata": {
    "ExecuteTime": {
     "end_time": "2018-11-02T10:24:54.452965Z",
     "start_time": "2018-11-02T10:24:53.170121Z"
    },
    "hidden": true
   },
   "outputs": [
    {
     "data": {
      "text/html": [
       "<div>\n",
       "<style scoped>\n",
       "    .dataframe tbody tr th:only-of-type {\n",
       "        vertical-align: middle;\n",
       "    }\n",
       "\n",
       "    .dataframe tbody tr th {\n",
       "        vertical-align: top;\n",
       "    }\n",
       "\n",
       "    .dataframe thead th {\n",
       "        text-align: right;\n",
       "    }\n",
       "</style>\n",
       "<table border=\"1\" class=\"dataframe\">\n",
       "  <thead>\n",
       "    <tr style=\"text-align: right;\">\n",
       "      <th></th>\n",
       "      <th>aa</th>\n",
       "      <th>aad</th>\n",
       "      <th>aardvark</th>\n",
       "      <th>ab</th>\n",
       "      <th>abandon</th>\n",
       "      <th>abap</th>\n",
       "      <th>abbreviate</th>\n",
       "      <th>abbreviation</th>\n",
       "      <th>abbriviate</th>\n",
       "      <th>abc</th>\n",
       "      <th>...</th>\n",
       "      <th>éàè</th>\n",
       "      <th>öäü</th>\n",
       "      <th>сaught</th>\n",
       "      <th>сonvenient</th>\n",
       "      <th>אין</th>\n",
       "      <th>בעברית</th>\n",
       "      <th>תמיכה</th>\n",
       "      <th>罗马市</th>\n",
       "      <th>로마</th>\n",
       "      <th>tokens_tag_true</th>\n",
       "    </tr>\n",
       "  </thead>\n",
       "  <tbody>\n",
       "    <tr>\n",
       "      <th>24412</th>\n",
       "      <td>0.0</td>\n",
       "      <td>0.0</td>\n",
       "      <td>0.0</td>\n",
       "      <td>0.0</td>\n",
       "      <td>0.0</td>\n",
       "      <td>0.0</td>\n",
       "      <td>0.0</td>\n",
       "      <td>0.0</td>\n",
       "      <td>0.0</td>\n",
       "      <td>0.0</td>\n",
       "      <td>...</td>\n",
       "      <td>0.0</td>\n",
       "      <td>0.0</td>\n",
       "      <td>0.0</td>\n",
       "      <td>0.0</td>\n",
       "      <td>0.0</td>\n",
       "      <td>0.0</td>\n",
       "      <td>0.0</td>\n",
       "      <td>0.0</td>\n",
       "      <td>0.0</td>\n",
       "      <td>asp.net asp-classic</td>\n",
       "    </tr>\n",
       "    <tr>\n",
       "      <th>9676</th>\n",
       "      <td>0.0</td>\n",
       "      <td>0.0</td>\n",
       "      <td>0.0</td>\n",
       "      <td>0.0</td>\n",
       "      <td>0.0</td>\n",
       "      <td>0.0</td>\n",
       "      <td>0.0</td>\n",
       "      <td>0.0</td>\n",
       "      <td>0.0</td>\n",
       "      <td>0.0</td>\n",
       "      <td>...</td>\n",
       "      <td>0.0</td>\n",
       "      <td>0.0</td>\n",
       "      <td>0.0</td>\n",
       "      <td>0.0</td>\n",
       "      <td>0.0</td>\n",
       "      <td>0.0</td>\n",
       "      <td>0.0</td>\n",
       "      <td>0.0</td>\n",
       "      <td>0.0</td>\n",
       "      <td>sql oracle plsql</td>\n",
       "    </tr>\n",
       "    <tr>\n",
       "      <th>24480</th>\n",
       "      <td>0.0</td>\n",
       "      <td>0.0</td>\n",
       "      <td>0.0</td>\n",
       "      <td>0.0</td>\n",
       "      <td>0.0</td>\n",
       "      <td>0.0</td>\n",
       "      <td>0.0</td>\n",
       "      <td>0.0</td>\n",
       "      <td>0.0</td>\n",
       "      <td>0.0</td>\n",
       "      <td>...</td>\n",
       "      <td>0.0</td>\n",
       "      <td>0.0</td>\n",
       "      <td>0.0</td>\n",
       "      <td>0.0</td>\n",
       "      <td>0.0</td>\n",
       "      <td>0.0</td>\n",
       "      <td>0.0</td>\n",
       "      <td>0.0</td>\n",
       "      <td>0.0</td>\n",
       "      <td>c# asp.net sms</td>\n",
       "    </tr>\n",
       "    <tr>\n",
       "      <th>18448</th>\n",
       "      <td>0.0</td>\n",
       "      <td>0.0</td>\n",
       "      <td>0.0</td>\n",
       "      <td>0.0</td>\n",
       "      <td>0.0</td>\n",
       "      <td>0.0</td>\n",
       "      <td>0.0</td>\n",
       "      <td>0.0</td>\n",
       "      <td>0.0</td>\n",
       "      <td>0.0</td>\n",
       "      <td>...</td>\n",
       "      <td>0.0</td>\n",
       "      <td>0.0</td>\n",
       "      <td>0.0</td>\n",
       "      <td>0.0</td>\n",
       "      <td>0.0</td>\n",
       "      <td>0.0</td>\n",
       "      <td>0.0</td>\n",
       "      <td>0.0</td>\n",
       "      <td>0.0</td>\n",
       "      <td>c# winforms</td>\n",
       "    </tr>\n",
       "    <tr>\n",
       "      <th>7241</th>\n",
       "      <td>0.0</td>\n",
       "      <td>0.0</td>\n",
       "      <td>0.0</td>\n",
       "      <td>0.0</td>\n",
       "      <td>0.0</td>\n",
       "      <td>0.0</td>\n",
       "      <td>0.0</td>\n",
       "      <td>0.0</td>\n",
       "      <td>0.0</td>\n",
       "      <td>0.0</td>\n",
       "      <td>...</td>\n",
       "      <td>0.0</td>\n",
       "      <td>0.0</td>\n",
       "      <td>0.0</td>\n",
       "      <td>0.0</td>\n",
       "      <td>0.0</td>\n",
       "      <td>0.0</td>\n",
       "      <td>0.0</td>\n",
       "      <td>0.0</td>\n",
       "      <td>0.0</td>\n",
       "      <td>php ajax authentication</td>\n",
       "    </tr>\n",
       "  </tbody>\n",
       "</table>\n",
       "<p>5 rows × 11131 columns</p>\n",
       "</div>"
      ],
      "text/plain": [
       "        aa  aad  aardvark   ab  abandon  abap  abbreviate  abbreviation  \\\n",
       "24412  0.0  0.0  0.0       0.0  0.0      0.0   0.0         0.0            \n",
       "9676   0.0  0.0  0.0       0.0  0.0      0.0   0.0         0.0            \n",
       "24480  0.0  0.0  0.0       0.0  0.0      0.0   0.0         0.0            \n",
       "18448  0.0  0.0  0.0       0.0  0.0      0.0   0.0         0.0            \n",
       "7241   0.0  0.0  0.0       0.0  0.0      0.0   0.0         0.0            \n",
       "\n",
       "       abbriviate  abc           ...             éàè  öäü  сaught  сonvenient  \\\n",
       "24412  0.0         0.0           ...             0.0  0.0  0.0     0.0          \n",
       "9676   0.0         0.0           ...             0.0  0.0  0.0     0.0          \n",
       "24480  0.0         0.0           ...             0.0  0.0  0.0     0.0          \n",
       "18448  0.0         0.0           ...             0.0  0.0  0.0     0.0          \n",
       "7241   0.0         0.0           ...             0.0  0.0  0.0     0.0          \n",
       "\n",
       "       אין  בעברית  תמיכה  罗马市   로마          tokens_tag_true  \n",
       "24412  0.0  0.0     0.0    0.0  0.0  asp.net asp-classic      \n",
       "9676   0.0  0.0     0.0    0.0  0.0  sql oracle plsql         \n",
       "24480  0.0  0.0     0.0    0.0  0.0  c# asp.net sms           \n",
       "18448  0.0  0.0     0.0    0.0  0.0  c# winforms              \n",
       "7241   0.0  0.0     0.0    0.0  0.0  php ajax authentication  \n",
       "\n",
       "[5 rows x 11131 columns]"
      ]
     },
     "execution_count": 18,
     "metadata": {},
     "output_type": "execute_result"
    }
   ],
   "source": [
    "# Train, Test = train_test_split(data, test_size=0.3)\n",
    "\n",
    "# X_train = Train['tokens_clean_lemma']\n",
    "# X_test = Test['tokens_clean_lemma']\n",
    "# y_train = Train['token_tag'].apply(trans)\n",
    "# y_test = Test['token_tag'].apply(trans)\n",
    "\n",
    "Train, Test = train_test_split(data, test_size=0.3) # Spliting data to avoid data leakage\n",
    "# Train['token_tag'] = Train['token_tag'].apply(trans) # transform token tag\n",
    "Train['tokens_clean_lemma'] = Train['tokens_clean_lemma'].apply(trans) # Transform token lemma\n",
    "corpus = Train['tokens_clean_lemma'].values\n",
    "vectorizer = TfidfVectorizer(ngram_range=(1, 1)) # Creating tf-idf matrix using unigram and bigram\n",
    "matrix = vectorizer.fit_transform(corpus) \n",
    "matrix_ = matrix.todense()\n",
    "tf_idfmatrix = pd.DataFrame(data=matrix_,columns=vectorizer.get_feature_names(), index=Train.index)\n",
    "tf_idfmatrix = pd.concat([tf_idfmatrix, Train['tokens_tag_true']], ignore_index=False, axis=1)\n",
    "\n",
    "tf_idfmatrix.head()"
   ]
  },
  {
   "cell_type": "code",
   "execution_count": 19,
   "metadata": {
    "ExecuteTime": {
     "end_time": "2018-11-02T10:24:54.613003Z",
     "start_time": "2018-11-02T10:24:54.456976Z"
    },
    "hidden": true
   },
   "outputs": [
    {
     "data": {
      "text/plain": [
       "matrix([[ 0.,  0.,  0., ...,  0.,  0.,  0.],\n",
       "        [ 0.,  0.,  0., ...,  0.,  0.,  0.],\n",
       "        [ 0.,  0.,  0., ...,  0.,  0.,  0.],\n",
       "        ..., \n",
       "        [ 0.,  0.,  0., ...,  0.,  0.,  0.],\n",
       "        [ 0.,  0.,  0., ...,  0.,  0.,  0.],\n",
       "        [ 0.,  0.,  0., ...,  0.,  0.,  0.]])"
      ]
     },
     "execution_count": 19,
     "metadata": {},
     "output_type": "execute_result"
    }
   ],
   "source": [
    "a = vectorizer.transform(Test['tokens_clean_lemma'].apply(trans).values)\n",
    "a.todense()"
   ]
  },
  {
   "cell_type": "code",
   "execution_count": 20,
   "metadata": {
    "ExecuteTime": {
     "end_time": "2018-11-02T10:24:54.625039Z",
     "start_time": "2018-11-02T10:24:54.616017Z"
    },
    "hidden": true
   },
   "outputs": [
    {
     "data": {
      "text/plain": [
       "(1657, 11130)"
      ]
     },
     "execution_count": 20,
     "metadata": {},
     "output_type": "execute_result"
    }
   ],
   "source": [
    "a.shape"
   ]
  },
  {
   "cell_type": "markdown",
   "metadata": {
    "heading_collapsed": true
   },
   "source": [
    "### Definied metrics: Pecision @K"
   ]
  },
  {
   "cell_type": "code",
   "execution_count": 23,
   "metadata": {
    "ExecuteTime": {
     "end_time": "2018-11-02T10:24:54.720300Z",
     "start_time": "2018-11-02T10:24:54.662136Z"
    },
    "hidden": true
   },
   "outputs": [],
   "source": [
    "def apk(actual, predicted, k=10):\n",
    "    \"\"\"\n",
    "    Computes the average precision at k.\n",
    "    This function computes the average prescision at k between two lists of\n",
    "    items.\n",
    "    Parameters\n",
    "    ----------\n",
    "    actual : list\n",
    "             A list of elements that are to be predicted (order doesn't matter)\n",
    "    predicted : list\n",
    "                A list of predicted elements (order does matter)\n",
    "    k : int, optional\n",
    "        The maximum number of predicted elements\n",
    "    Returns\n",
    "    -------\n",
    "    score : double\n",
    "            The average precision at k over the input lists\n",
    "    \"\"\"\n",
    "    if len(predicted)>k:\n",
    "        predicted = predicted[:k]\n",
    "\n",
    "    score = 0.0\n",
    "    num_hits = 0.0\n",
    "\n",
    "    for i,p in enumerate(predicted):\n",
    "        if p in actual and p not in predicted[:i]:\n",
    "            num_hits += 1.0\n",
    "            score += num_hits / (i+1.0)\n",
    "\n",
    "    if not actual:\n",
    "        return 0.0\n",
    "\n",
    "    return score / min(len(actual), k)\n",
    "\n",
    "def mapk(actual, predicted, k=10):\n",
    "    \"\"\"\n",
    "    Computes the mean average precision at k.\n",
    "    This function computes the mean average prescision at k between two lists\n",
    "    of lists of items.\n",
    "    Parameters\n",
    "    ----------\n",
    "    actual : list\n",
    "             A list of lists of elements that are to be predicted \n",
    "             (order doesn't matter in the lists)\n",
    "    predicted : list\n",
    "                A list of lists of predicted elements\n",
    "                (order matters in the lists)\n",
    "    k : int, optional\n",
    "        The maximum number of predicted elements\n",
    "    Returns\n",
    "    -------\n",
    "    score : double\n",
    "            The mean average precision at k over the input lists\n",
    "    \"\"\"\n",
    "    return np.mean([apk(a,p,k) for a,p in zip(actual, predicted)])"
   ]
  },
  {
   "cell_type": "markdown",
   "metadata": {
    "heading_collapsed": true
   },
   "source": [
    "### Predictive model"
   ]
  },
  {
   "cell_type": "markdown",
   "metadata": {
    "hidden": true
   },
   "source": [
    "#### Splitting and binarization"
   ]
  },
  {
   "cell_type": "code",
   "execution_count": 24,
   "metadata": {
    "ExecuteTime": {
     "end_time": "2018-11-02T10:24:57.076260Z",
     "start_time": "2018-11-02T10:24:54.725312Z"
    },
    "hidden": true
   },
   "outputs": [],
   "source": [
    "# Splitting data in training and test set\n",
    "X_train, X_test, y_train, y_test = train_test_split(\n",
    "    tf_idfmatrix.iloc[:, :-1].values, tf_idfmatrix['tokens_tag_true'], test_size=0.3)\n",
    "\n",
    "#     Target binarizing\n",
    "mlb = preprocessing.MultiLabelBinarizer(classes=max_tags)\n",
    "mlb.fit([w.split() for w in y_train])\n",
    "y_train_mlb = mlb.transform([w.split() for w in y_train])\n",
    "y_test_mlb = mlb.transform([w.split() for w in y_test])"
   ]
  },
  {
   "cell_type": "code",
   "execution_count": 25,
   "metadata": {
    "ExecuteTime": {
     "end_time": "2018-11-02T10:24:57.089301Z",
     "start_time": "2018-11-02T10:24:57.079771Z"
    },
    "hidden": true
   },
   "outputs": [
    {
     "data": {
      "text/plain": [
       "array([[0, 0, 0, ..., 0, 0, 0],\n",
       "       [0, 0, 0, ..., 0, 0, 0],\n",
       "       [1, 0, 0, ..., 0, 0, 0],\n",
       "       [0, 0, 0, ..., 0, 0, 0],\n",
       "       [1, 1, 0, ..., 0, 0, 0]])"
      ]
     },
     "execution_count": 25,
     "metadata": {},
     "output_type": "execute_result"
    }
   ],
   "source": [
    "y_train_mlb[:5]"
   ]
  },
  {
   "cell_type": "code",
   "execution_count": 26,
   "metadata": {
    "ExecuteTime": {
     "end_time": "2018-11-02T10:24:57.133420Z",
     "start_time": "2018-11-02T10:24:57.094316Z"
    },
    "hidden": true
   },
   "outputs": [],
   "source": [
    "# Méthode pour récupérer les meilleurs tags en fonction du pourcentage de la prédiction\n",
    "def get_best_tags(clf, X, lb, n_tags=5, b_save=False, b_Dir=''):\n",
    "    decfun = []\n",
    "    if hasattr(clf, 'decision_function'):\n",
    "        decfun = clf.decision_function(X)\n",
    "    elif hasattr(clf, 'predict_proba'):\n",
    "        decfun = clf.predict_proba(X)\n",
    "    else:\n",
    "        return None\n",
    "\n",
    "    best_tags = np.argsort(decfun)[:, :-(n_tags+1): -1]\n",
    "\n",
    "    if b_save:\n",
    "        # Sauvegarde du modèle pour pouvoir le rejouer dans l'API\n",
    "        save_obj(clf, b_Dir + 'Classifier')\n",
    "        save_obj(lb, b_Dir + 'MultiLabelBinarizer')\n",
    "        \n",
    "    return lb.classes_[best_tags]"
   ]
  },
  {
   "cell_type": "markdown",
   "metadata": {
    "hidden": true
   },
   "source": [
    "#### Mutinomial NB"
   ]
  },
  {
   "cell_type": "code",
   "execution_count": 27,
   "metadata": {
    "ExecuteTime": {
     "end_time": "2018-11-02T10:28:33.890991Z",
     "start_time": "2018-11-02T10:24:57.138433Z"
    },
    "hidden": true,
    "scrolled": false
   },
   "outputs": [
    {
     "name": "stdout",
     "output_type": "stream",
     "text": [
      "0.271211925287\n"
     ]
    }
   ],
   "source": [
    "m_NB = OneVsRestClassifier(MultinomialNB(alpha=0.001))\n",
    "m_NB.fit(X_train, y_train_mlb)\n",
    "y_pred_NB = mlb.classes_[np.argsort(m_NB.predict_proba(X_test))][:, :-(200+1): -1]\n",
    "c = mlb.inverse_transform(y_test_mlb)\n",
    "y_ij = [list(elem) for elem in c]\n",
    "print(mapk(y_ij, y_pred_NB, k=5))"
   ]
  },
  {
   "cell_type": "markdown",
   "metadata": {
    "hidden": true
   },
   "source": [
    "#### Linear SVD"
   ]
  },
  {
   "cell_type": "code",
   "execution_count": 29,
   "metadata": {
    "ExecuteTime": {
     "end_time": "2018-11-02T10:37:44.956836Z",
     "start_time": "2018-11-02T10:34:56.403290Z"
    },
    "hidden": true
   },
   "outputs": [
    {
     "name": "stdout",
     "output_type": "stream",
     "text": [
      "0.228807471264\n"
     ]
    }
   ],
   "source": [
    "from sklearn import svm\n",
    "from sklearn.calibration import CalibratedClassifierCV\n",
    "\n",
    "# SVM = svm.LinearSVC(multi_class='crammer_singer')\n",
    "m_SVM = OneVsRestClassifier(svm.LinearSVC(multi_class='crammer_singer')).fit(X_train, y_train_mlb)\n",
    "y_pred_SVM = m_SVM.predict(X_test)\n",
    "y_pred=mlb.inverse_transform(y_pred_SVM)\n",
    "y_pred_1= [list(elem) for elem in y_pred]\n",
    "print(mapk(y_ij, y_pred_1, k=3))"
   ]
  },
  {
   "cell_type": "markdown",
   "metadata": {
    "heading_collapsed": true
   },
   "source": [
    "### Word Embedding"
   ]
  },
  {
   "cell_type": "markdown",
   "metadata": {
    "hidden": true
   },
   "source": [
    "#### Creating corpus"
   ]
  },
  {
   "cell_type": "code",
   "execution_count": 30,
   "metadata": {
    "ExecuteTime": {
     "end_time": "2018-11-02T10:38:17.918900Z",
     "start_time": "2018-11-02T10:38:17.913887Z"
    },
    "hidden": true
   },
   "outputs": [],
   "source": [
    "corpus_w = data['tokens_clean_lemma'].values.tolist()"
   ]
  },
  {
   "cell_type": "markdown",
   "metadata": {
    "hidden": true
   },
   "source": [
    "#### Training word embedding with word2vec"
   ]
  },
  {
   "cell_type": "code",
   "execution_count": 31,
   "metadata": {
    "ExecuteTime": {
     "end_time": "2018-11-02T10:38:21.097191Z",
     "start_time": "2018-11-02T10:38:19.141608Z"
    },
    "hidden": true
   },
   "outputs": [
    {
     "data": {
      "text/plain": [
       "[('inner', 0.9898452758789062),\n",
       " ('concatenate', 0.9884477853775024),\n",
       " ('serialize', 0.9862602949142456),\n",
       " ('recursive', 0.9843656420707703),\n",
       " ('mapping', 0.9843652248382568),\n",
       " ('fortunately', 0.9832175970077515),\n",
       " ('datatable', 0.980750322341919),\n",
       " ('midnight', 0.9802878499031067),\n",
       " ('entity', 0.9800678491592407),\n",
       " ('dataset', 0.9800617694854736)]"
      ]
     },
     "execution_count": 31,
     "metadata": {},
     "output_type": "execute_result"
    }
   ],
   "source": [
    "import gensim\n",
    "# let X be a list of tokenized texts (i.e. list of lists of tokens)\n",
    "model = gensim.models.Word2Vec(corpus_w, min_count=1, size=10)\n",
    "w2v = dict(zip(model.wv.index2word, model.wv.syn0))\n",
    "model.most_similar('convert')"
   ]
  },
  {
   "cell_type": "markdown",
   "metadata": {
    "hidden": true
   },
   "source": [
    "#### Using word2vec as features for supervized model"
   ]
  },
  {
   "cell_type": "code",
   "execution_count": 32,
   "metadata": {
    "ExecuteTime": {
     "end_time": "2018-11-02T10:38:27.987507Z",
     "start_time": "2018-11-02T10:38:27.893246Z"
    },
    "hidden": true
   },
   "outputs": [],
   "source": [
    "#Class for simple word2vec \n",
    "\n",
    "class MeanEmbeddingVectorizer(object):\n",
    "    def __init__(self, word2vec):\n",
    "        self.word2vec = word2vec\n",
    "        # if a text is empty we should return a vector of zeros\n",
    "        # with the same dimensionality as all the other vectors\n",
    "        self.dim = len(next(iter(word2vec.items())))\n",
    "\n",
    "    def fit(self, X, y):\n",
    "        return self\n",
    "\n",
    "    def transform(self, X):\n",
    "        return np.array([\n",
    "            np.mean([self.word2vec[w] for w in words if w in self.word2vec]\n",
    "                    or [np.zeros(self.dim)], axis=0)\n",
    "            for words in X\n",
    "        ])\n",
    "    \n",
    "# Class for word2vec+tf_idf\n",
    "\n",
    "class TfidfEmbeddingVectorizer(object):\n",
    "    def __init__(self, word2vec):\n",
    "        self.word2vec = word2vec\n",
    "        self.word2weight = None\n",
    "        self.dim = len(next(iter(word2vec.items())))\n",
    "\n",
    "    def fit(self, X, y):\n",
    "        tfidf = TfidfVectorizer(analyzer=lambda x: x)\n",
    "        tfidf.fit(X)\n",
    "        # if a word was never seen - it must be at least as infrequent\n",
    "        # as any of the known words - so the default idf is the max of \n",
    "        # known idf's\n",
    "        max_idf = max(tfidf.idf_)\n",
    "        self.word2weight = defaultdict(\n",
    "            lambda: max_idf,\n",
    "            [(w, tfidf.idf_[i]) for w, i in tfidf.vocabulary_.items()])\n",
    "\n",
    "        return self\n",
    "\n",
    "    def transform(self, X):\n",
    "        return np.array([\n",
    "                np.mean([self.word2vec[w] * self.word2weight[w]\n",
    "                         for w in words if w in self.word2vec] or\n",
    "                        [np.zeros(self.dim)], axis=0)\n",
    "                for words in X\n",
    "            ])"
   ]
  },
  {
   "cell_type": "code",
   "execution_count": 33,
   "metadata": {
    "ExecuteTime": {
     "end_time": "2018-11-02T10:38:29.206432Z",
     "start_time": "2018-11-02T10:38:28.664630Z"
    },
    "hidden": true
   },
   "outputs": [
    {
     "data": {
      "text/plain": [
       "(5522, 10)"
      ]
     },
     "execution_count": 33,
     "metadata": {},
     "output_type": "execute_result"
    }
   ],
   "source": [
    "# Transform corpus into embedding matrix\n",
    "Embedding_matrix = MeanEmbeddingVectorizer(w2v).transform(corpus_w)\n",
    "Embedding_matrix.shape"
   ]
  },
  {
   "cell_type": "code",
   "execution_count": 34,
   "metadata": {
    "ExecuteTime": {
     "end_time": "2018-11-02T10:38:30.183782Z",
     "start_time": "2018-11-02T10:38:30.126629Z"
    },
    "hidden": true
   },
   "outputs": [],
   "source": [
    "# Splitting data in training and test set\n",
    "from sklearn.model_selection import train_test_split\n",
    "X_train_2, X_test_2, y_train_2, y_test_2 = train_test_split(Embedding_matrix, data['tokens_tag_true'], test_size=0.3)\n",
    "\n",
    "# Target binarizing\n",
    "from sklearn import preprocessing\n",
    "mlb = preprocessing.MultiLabelBinarizer(classes=max_tags)\n",
    "mlb.fit([w.split() for w in y_train_2])\n",
    "\n",
    "y_train_mlb_2 = mlb.transform([w.split() for w in y_train_2])\n",
    "y_test_mlb_2 = mlb.transform([w.split() for w in y_test_2])"
   ]
  },
  {
   "cell_type": "code",
   "execution_count": 35,
   "metadata": {
    "ExecuteTime": {
     "end_time": "2018-11-02T10:38:31.273808Z",
     "start_time": "2018-11-02T10:38:31.265785Z"
    },
    "hidden": true
   },
   "outputs": [],
   "source": [
    "#### MNB and SVM do not support negative values\n",
    "from sklearn.preprocessing import MinMaxScaler\n",
    "# from sklearn.decomposition import NMF\n",
    "# nmf = NMF(n_components=10)\n",
    "scale_up = MinMaxScaler()\n",
    "X_train_2 = scale_up.fit_transform(X_train_2)\n",
    "X_test_2 = scale_up.transform(X_test_2)"
   ]
  },
  {
   "cell_type": "markdown",
   "metadata": {
    "hidden": true
   },
   "source": [
    "#### MNB"
   ]
  },
  {
   "cell_type": "code",
   "execution_count": 36,
   "metadata": {
    "ExecuteTime": {
     "end_time": "2018-11-02T10:38:37.145546Z",
     "start_time": "2018-11-02T10:38:33.490447Z"
    },
    "hidden": true
   },
   "outputs": [
    {
     "data": {
      "text/plain": [
       "0.089751197318007653"
      ]
     },
     "execution_count": 36,
     "metadata": {},
     "output_type": "execute_result"
    }
   ],
   "source": [
    "m_NB_2 = OneVsRestClassifier(MultinomialNB(alpha=0.001))\n",
    "m_NB_2.fit(X_train_2, y_train_mlb_2)\n",
    "y_pred_NB_2 = mlb.classes_[np.argsort(m_NB_2.predict_proba(X_test_2))][:, :-(200+1): -1]\n",
    "c_2 = mlb.inverse_transform(y_test_mlb_2)\n",
    "y_tes = [list(elem) for elem in c]\n",
    "mapk(y_tes, y_pred_NB_2, k=5)"
   ]
  },
  {
   "cell_type": "markdown",
   "metadata": {
    "hidden": true
   },
   "source": [
    "#### Linear SVC"
   ]
  },
  {
   "cell_type": "code",
   "execution_count": 37,
   "metadata": {
    "ExecuteTime": {
     "end_time": "2018-11-02T10:39:50.061756Z",
     "start_time": "2018-11-02T10:38:55.714928Z"
    },
    "hidden": true
   },
   "outputs": [
    {
     "data": {
      "text/plain": [
       "0.018739224137931033"
      ]
     },
     "execution_count": 37,
     "metadata": {},
     "output_type": "execute_result"
    }
   ],
   "source": [
    "m_SVM_2 = OneVsRestClassifier(svm.LinearSVC(multi_class='crammer_singer')).fit(X_train_2, y_train_mlb_2)\n",
    "y_pred_SVM = mlb.classes_[np.argsort(m_SVM_2.decision_function(X_test_2))]#[:, :-(200+1): -1]\n",
    "mapk(y_tes, y_pred_SVM, k=5)\n",
    "# print(apk(y_ij, y_pred_SVM, k=5))"
   ]
  },
  {
   "cell_type": "markdown",
   "metadata": {
    "heading_collapsed": true
   },
   "source": [
    "### Saving the Model using Pickle"
   ]
  },
  {
   "cell_type": "markdown",
   "metadata": {
    "hidden": true
   },
   "source": [
    "#### Best model"
   ]
  },
  {
   "cell_type": "code",
   "execution_count": 39,
   "metadata": {
    "ExecuteTime": {
     "end_time": "2018-11-02T11:58:32.569996Z",
     "start_time": "2018-11-02T11:55:03.497239Z"
    },
    "hidden": true
   },
   "outputs": [],
   "source": [
    "# Fit on data with best model\n",
    "Best_model = OneVsRestClassifier(MultinomialNB(alpha=0.001))\n",
    "Best_model.fit(X_train, y_train_mlb)\n",
    "y_pred_NB = m_NB.predict_proba(X_test)"
   ]
  },
  {
   "cell_type": "code",
   "execution_count": 40,
   "metadata": {
    "ExecuteTime": {
     "end_time": "2018-11-02T11:59:21.040841Z",
     "start_time": "2018-11-02T11:58:32.585038Z"
    },
    "hidden": true
   },
   "outputs": [
    {
     "data": {
      "text/plain": [
       "array([[  4.32512373e-02,   6.88883790e-03,   9.32046752e-04, ...,\n",
       "          1.89477607e-06,   1.89477607e-06,   2.55104261e-06],\n",
       "       [  2.19849260e-02,   6.11721210e-02,   5.00858467e-03, ...,\n",
       "          9.14875746e-06,   9.14875746e-06,   1.21452426e-05],\n",
       "       [  1.47286081e-02,   3.88068910e-03,   1.23372567e-03, ...,\n",
       "          9.82496562e-09,   9.82496562e-09,   1.24767066e-08],\n",
       "       ..., \n",
       "       [  4.17147023e-02,   2.14875410e-02,   2.56863228e-03, ...,\n",
       "          2.14211225e-06,   2.14211225e-06,   6.40548392e-07],\n",
       "       [  7.76865744e-02,   1.71797483e-01,   5.37091989e-02, ...,\n",
       "          1.45345108e-04,   1.45345108e-04,   1.54495574e-04],\n",
       "       [  3.49304480e-03,   1.00338207e-02,   2.98756182e-02, ...,\n",
       "          3.20149160e-05,   3.20149160e-05,   4.98726608e-05]])"
      ]
     },
     "execution_count": 40,
     "metadata": {},
     "output_type": "execute_result"
    }
   ],
   "source": [
    "Best_model.predict_proba(X_test)"
   ]
  },
  {
   "cell_type": "code",
   "execution_count": 41,
   "metadata": {
    "ExecuteTime": {
     "end_time": "2018-11-02T12:00:10.583989Z",
     "start_time": "2018-11-02T11:59:21.051368Z"
    },
    "hidden": true
   },
   "outputs": [],
   "source": [
    "best_tags = np.argsort(Best_model.predict_proba(X_test))[:, :-(5+1): -1]"
   ]
  },
  {
   "cell_type": "code",
   "execution_count": 42,
   "metadata": {
    "ExecuteTime": {
     "end_time": "2018-11-02T12:00:10.601036Z",
     "start_time": "2018-11-02T12:00:10.588003Z"
    },
    "hidden": true
   },
   "outputs": [
    {
     "data": {
      "text/plain": [
       "array([[  0,   3,  32,  37,  63],\n",
       "       [  3,  26,   1,  21,  10],\n",
       "       [  4,  76,  11,   0,  18],\n",
       "       ..., \n",
       "       [  0,   7,   3,   1,  49],\n",
       "       [  1,  12,   3, 256,   0],\n",
       "       [ 27,   3, 192,  57,  29]], dtype=int64)"
      ]
     },
     "execution_count": 42,
     "metadata": {},
     "output_type": "execute_result"
    }
   ],
   "source": [
    "best_tags"
   ]
  },
  {
   "cell_type": "code",
   "execution_count": 43,
   "metadata": {
    "ExecuteTime": {
     "end_time": "2018-11-02T12:00:10.642649Z",
     "start_time": "2018-11-02T12:00:10.604546Z"
    },
    "hidden": true
   },
   "outputs": [
    {
     "data": {
      "text/plain": [
       "array([['c#', 'java', 'security', 'sql-server-2005', 'linq-to-sql'],\n",
       "       ['java', 'vb.net', '.net', 'winforms', 'visual-studio'],\n",
       "       ['sql-server', 'memory', 'database', 'c#', 'mysql'],\n",
       "       ..., \n",
       "       ['c#', 'php', 'java', '.net', 'string'],\n",
       "       ['.net', 'windows', 'java', 'hosting', 'c#'],\n",
       "       ['macos', 'java', 'process', 'iis', 'user-interface']], dtype=object)"
      ]
     },
     "execution_count": 43,
     "metadata": {},
     "output_type": "execute_result"
    }
   ],
   "source": [
    "mlb.classes_[best_tags]"
   ]
  },
  {
   "cell_type": "markdown",
   "metadata": {
    "hidden": true
   },
   "source": [
    "#### Pickle model"
   ]
  },
  {
   "cell_type": "code",
   "execution_count": 44,
   "metadata": {
    "ExecuteTime": {
     "end_time": "2018-11-02T12:00:10.680247Z",
     "start_time": "2018-11-02T12:00:10.647159Z"
    },
    "hidden": true
   },
   "outputs": [
    {
     "data": {
      "text/plain": [
       "Pipeline(memory=None,\n",
       "     steps=[('tfidfvectorizer', TfidfVectorizer(analyzer='word', binary=False, decode_error='strict',\n",
       "        dtype=<class 'numpy.int64'>, encoding='utf-8', input='content',\n",
       "        lowercase=True, max_df=1.0, max_features=None, min_df=1,\n",
       "        ngram_range=(1, 1), norm='l2', preprocessor=None, smooth_i...sifier(estimator=MultinomialNB(alpha=0.001, class_prior=None, fit_prior=True),\n",
       "          n_jobs=1))])"
      ]
     },
     "execution_count": 44,
     "metadata": {},
     "output_type": "execute_result"
    }
   ],
   "source": [
    "from sklearn.pipeline import make_pipeline\n",
    "\n",
    "pipe = make_pipeline(vectorizer, m_NB)\n",
    "pipe"
   ]
  },
  {
   "cell_type": "code",
   "execution_count": 45,
   "metadata": {
    "ExecuteTime": {
     "end_time": "2018-11-02T12:00:20.922972Z",
     "start_time": "2018-11-02T12:00:10.685261Z"
    },
    "hidden": true
   },
   "outputs": [],
   "source": [
    "import pickle\n",
    "with open('Best_model.pkl', 'wb') as fid:\n",
    "    pickle.dump(pipe, fid,2) "
   ]
  },
  {
   "cell_type": "code",
   "execution_count": 46,
   "metadata": {
    "ExecuteTime": {
     "end_time": "2018-11-02T12:00:30.091134Z",
     "start_time": "2018-11-02T12:00:20.925978Z"
    },
    "hidden": true
   },
   "outputs": [],
   "source": [
    "import pickle\n",
    "with open('Best_model_1.pkl', 'wb') as fid:\n",
    "    pickle.dump(pipe, fid,2) "
   ]
  },
  {
   "cell_type": "code",
   "execution_count": 47,
   "metadata": {
    "ExecuteTime": {
     "end_time": "2018-11-02T12:00:30.114399Z",
     "start_time": "2018-11-02T12:00:30.094346Z"
    },
    "hidden": true
   },
   "outputs": [],
   "source": [
    "with open('mlb.pkl', 'wb') as fid:\n",
    "    pickle.dump(mlb, fid,2) "
   ]
  },
  {
   "cell_type": "code",
   "execution_count": 48,
   "metadata": {
    "ExecuteTime": {
     "end_time": "2018-11-02T12:00:30.142471Z",
     "start_time": "2018-11-02T12:00:30.117407Z"
    },
    "hidden": true
   },
   "outputs": [],
   "source": [
    "max_tags_dict = dict(zip(max_tags,range(len(max_tags))))\n",
    "\n",
    "with open('tags_api', 'wb') as fid:\n",
    "    pickle.dump(max_tags_dict, fid,2)  "
   ]
  },
  {
   "cell_type": "markdown",
   "metadata": {
    "hidden": true
   },
   "source": [
    "#### Test of model"
   ]
  },
  {
   "cell_type": "code",
   "execution_count": 49,
   "metadata": {
    "ExecuteTime": {
     "end_time": "2018-11-02T12:00:30.158515Z",
     "start_time": "2018-11-02T12:00:30.146484Z"
    },
    "hidden": true
   },
   "outputs": [],
   "source": [
    "Title = 'Plot beautiful graph with seaborn'\n",
    "Body = 'Hello, I want to know how to plot beautiful graph on jupyter notebook using seaborn. And another questions is focused on difference between matplolib and seaborn. What would be the best ? Thanks'"
   ]
  },
  {
   "cell_type": "code",
   "execution_count": 50,
   "metadata": {
    "ExecuteTime": {
     "end_time": "2018-11-02T12:00:30.177576Z",
     "start_time": "2018-11-02T12:00:30.164531Z"
    },
    "hidden": true
   },
   "outputs": [],
   "source": [
    "tl=\"Wordpress Elementor: display Product Variation as checkboxes\"\n",
    "cd=\"Our Product page is currently using the Elementor Product > Add to cart widget, which adds a Select field for the Product Variation ‘sizes’, I would like to display size variations as checkboxes, how can I do this?\""
   ]
  },
  {
   "cell_type": "code",
   "execution_count": 51,
   "metadata": {
    "ExecuteTime": {
     "end_time": "2018-11-02T12:00:30.221443Z",
     "start_time": "2018-11-02T12:00:30.181586Z"
    },
    "hidden": true
   },
   "outputs": [
    {
     "data": {
      "text/plain": [
       "'Hello, I want to know how to plot beautiful graph on jupyter notebook using seaborn. And another questions is focused on difference between matplolib and seaborn. What would be the best ? Thanks'"
      ]
     },
     "execution_count": 51,
     "metadata": {},
     "output_type": "execute_result"
    }
   ],
   "source": [
    "Body"
   ]
  },
  {
   "cell_type": "code",
   "execution_count": 52,
   "metadata": {
    "ExecuteTime": {
     "end_time": "2018-11-02T12:00:30.242501Z",
     "start_time": "2018-11-02T12:00:30.224451Z"
    },
    "hidden": true
   },
   "outputs": [
    {
     "data": {
      "text/plain": [
       "'Plot beautiful graph with seaborn'"
      ]
     },
     "execution_count": 52,
     "metadata": {},
     "output_type": "execute_result"
    }
   ],
   "source": [
    "Title"
   ]
  },
  {
   "cell_type": "code",
   "execution_count": 53,
   "metadata": {
    "ExecuteTime": {
     "end_time": "2018-11-02T12:00:30.412883Z",
     "start_time": "2018-11-02T12:00:30.246511Z"
    },
    "hidden": true
   },
   "outputs": [
    {
     "data": {
      "text/html": [
       "<div>\n",
       "<style scoped>\n",
       "    .dataframe tbody tr th:only-of-type {\n",
       "        vertical-align: middle;\n",
       "    }\n",
       "\n",
       "    .dataframe tbody tr th {\n",
       "        vertical-align: top;\n",
       "    }\n",
       "\n",
       "    .dataframe thead th {\n",
       "        text-align: right;\n",
       "    }\n",
       "</style>\n",
       "<table border=\"1\" class=\"dataframe\">\n",
       "  <thead>\n",
       "    <tr style=\"text-align: right;\">\n",
       "      <th></th>\n",
       "      <th>Body</th>\n",
       "      <th>Title</th>\n",
       "    </tr>\n",
       "  </thead>\n",
       "  <tbody>\n",
       "    <tr>\n",
       "      <th>0</th>\n",
       "      <td>Our Product page is currently using the Elementor Product &gt; Add to cart widget, which adds a Select field for the Product Variation ‘sizes’, I would like to display size variations as checkboxes, how can I do this?</td>\n",
       "      <td>Wordpress Elementor: display Product Variation as checkboxes</td>\n",
       "    </tr>\n",
       "  </tbody>\n",
       "</table>\n",
       "</div>"
      ],
      "text/plain": [
       "                                                                                                                                                                                                                     Body  \\\n",
       "0  Our Product page is currently using the Elementor Product > Add to cart widget, which adds a Select field for the Product Variation ‘sizes’, I would like to display size variations as checkboxes, how can I do this?   \n",
       "\n",
       "                                                          Title  \n",
       "0  Wordpress Elementor: display Product Variation as checkboxes  "
      ]
     },
     "execution_count": 53,
     "metadata": {},
     "output_type": "execute_result"
    }
   ],
   "source": [
    "data_1=pd.DataFrame({'Title':[tl], 'Body':[cd]})\n",
    "data_1"
   ]
  },
  {
   "cell_type": "code",
   "execution_count": 54,
   "metadata": {
    "ExecuteTime": {
     "end_time": "2018-11-02T12:00:30.468341Z",
     "start_time": "2018-11-02T12:00:30.422909Z"
    },
    "hidden": true
   },
   "outputs": [
    {
     "data": {
      "text/html": [
       "<div>\n",
       "<style scoped>\n",
       "    .dataframe tbody tr th:only-of-type {\n",
       "        vertical-align: middle;\n",
       "    }\n",
       "\n",
       "    .dataframe tbody tr th {\n",
       "        vertical-align: top;\n",
       "    }\n",
       "\n",
       "    .dataframe thead th {\n",
       "        text-align: right;\n",
       "    }\n",
       "</style>\n",
       "<table border=\"1\" class=\"dataframe\">\n",
       "  <thead>\n",
       "    <tr style=\"text-align: right;\">\n",
       "      <th></th>\n",
       "      <th>Question</th>\n",
       "    </tr>\n",
       "  </thead>\n",
       "  <tbody>\n",
       "    <tr>\n",
       "      <th>0</th>\n",
       "      <td>Our Product page is currently using the Elementor Product &gt; Add to cart widget, which adds a Select field for the Product Variation ‘sizes’, I would like to display size variations as checkboxes, how can I do this? Wordpress Elementor: display Product Variation as checkboxes</td>\n",
       "    </tr>\n",
       "  </tbody>\n",
       "</table>\n",
       "</div>"
      ],
      "text/plain": [
       "                                                                                                                                                                                                                                                                              Question\n",
       "0  Our Product page is currently using the Elementor Product > Add to cart widget, which adds a Select field for the Product Variation ‘sizes’, I would like to display size variations as checkboxes, how can I do this? Wordpress Elementor: display Product Variation as checkboxes"
      ]
     },
     "execution_count": 54,
     "metadata": {},
     "output_type": "execute_result"
    }
   ],
   "source": [
    "merge(data_1,'Body', 'Title')"
   ]
  },
  {
   "cell_type": "code",
   "execution_count": 55,
   "metadata": {
    "ExecuteTime": {
     "end_time": "2018-11-02T12:00:30.553210Z",
     "start_time": "2018-11-02T12:00:30.473352Z"
    },
    "hidden": true
   },
   "outputs": [
    {
     "data": {
      "text/html": [
       "<div>\n",
       "<style scoped>\n",
       "    .dataframe tbody tr th:only-of-type {\n",
       "        vertical-align: middle;\n",
       "    }\n",
       "\n",
       "    .dataframe tbody tr th {\n",
       "        vertical-align: top;\n",
       "    }\n",
       "\n",
       "    .dataframe thead th {\n",
       "        text-align: right;\n",
       "    }\n",
       "</style>\n",
       "<table border=\"1\" class=\"dataframe\">\n",
       "  <thead>\n",
       "    <tr style=\"text-align: right;\">\n",
       "      <th></th>\n",
       "      <th>tokens_clean</th>\n",
       "    </tr>\n",
       "  </thead>\n",
       "  <tbody>\n",
       "    <tr>\n",
       "      <th>0</th>\n",
       "      <td>[product, page, currently, using, elementor, product, add, cart, widget, adds, select, field, product, variation, sizes, like, display, size, variations, checkboxes, can, wordpress, elementor, display, product, variation, checkboxes]</td>\n",
       "    </tr>\n",
       "  </tbody>\n",
       "</table>\n",
       "</div>"
      ],
      "text/plain": [
       "                                                                                                                                                                                                                                tokens_clean\n",
       "0  [product, page, currently, using, elementor, product, add, cart, widget, adds, select, field, product, variation, sizes, like, display, size, variations, checkboxes, can, wordpress, elementor, display, product, variation, checkboxes]"
      ]
     },
     "execution_count": 55,
     "metadata": {},
     "output_type": "execute_result"
    }
   ],
   "source": [
    "tokenization(data_1, 'Question')"
   ]
  },
  {
   "cell_type": "code",
   "execution_count": 56,
   "metadata": {
    "ExecuteTime": {
     "end_time": "2018-11-02T12:00:49.117110Z",
     "start_time": "2018-11-02T12:00:30.556218Z"
    },
    "hidden": true
   },
   "outputs": [
    {
     "name": "stderr",
     "output_type": "stream",
     "text": [
      "100%|████████████████████████████████████████████████████████████████████████████████████| 1/1 [00:00<00:00, 21.45it/s]\n"
     ]
    },
    {
     "data": {
      "text/html": [
       "<div>\n",
       "<style scoped>\n",
       "    .dataframe tbody tr th:only-of-type {\n",
       "        vertical-align: middle;\n",
       "    }\n",
       "\n",
       "    .dataframe tbody tr th {\n",
       "        vertical-align: top;\n",
       "    }\n",
       "\n",
       "    .dataframe thead th {\n",
       "        text-align: right;\n",
       "    }\n",
       "</style>\n",
       "<table border=\"1\" class=\"dataframe\">\n",
       "  <thead>\n",
       "    <tr style=\"text-align: right;\">\n",
       "      <th></th>\n",
       "      <th>tokens_clean_lemma</th>\n",
       "    </tr>\n",
       "  </thead>\n",
       "  <tbody>\n",
       "    <tr>\n",
       "      <th>0</th>\n",
       "      <td>[product, page, currently, use, elementor, product, add, cart, widget, add, select, field, product, variation, size, like, display, size, variation, checkbox, can, wordpress, elementor, display, product, variation, checkbox]</td>\n",
       "    </tr>\n",
       "  </tbody>\n",
       "</table>\n",
       "</div>"
      ],
      "text/plain": [
       "                                                                                                                                                                                                                 tokens_clean_lemma\n",
       "0  [product, page, currently, use, elementor, product, add, cart, widget, add, select, field, product, variation, size, like, display, size, variation, checkbox, can, wordpress, elementor, display, product, variation, checkbox]"
      ]
     },
     "execution_count": 56,
     "metadata": {},
     "output_type": "execute_result"
    }
   ],
   "source": [
    "lematization(data_1, 'tokens_clean')"
   ]
  },
  {
   "cell_type": "code",
   "execution_count": 57,
   "metadata": {
    "ExecuteTime": {
     "end_time": "2018-11-02T12:00:49.134658Z",
     "start_time": "2018-11-02T12:00:49.120623Z"
    },
    "hidden": true
   },
   "outputs": [
    {
     "data": {
      "text/plain": [
       "0    [product, page, currently, use, elementor, product, add, cart, widget, add, select, field, product, variation, size, like, display, size, variation, checkbox, can, wordpress, elementor, display, product, variation, checkbox]\n",
       "Name: tokens_clean_lemma, dtype: object"
      ]
     },
     "execution_count": 57,
     "metadata": {},
     "output_type": "execute_result"
    }
   ],
   "source": [
    "data_1['tokens_clean_lemma']"
   ]
  },
  {
   "cell_type": "code",
   "execution_count": 58,
   "metadata": {
    "ExecuteTime": {
     "end_time": "2018-11-02T12:00:49.383470Z",
     "start_time": "2018-11-02T12:00:49.138171Z"
    },
    "hidden": true
   },
   "outputs": [],
   "source": [
    "Tags_predict=pipe.predict_proba(data_1['tokens_clean_lemma'].apply(trans))"
   ]
  },
  {
   "cell_type": "code",
   "execution_count": 59,
   "metadata": {
    "ExecuteTime": {
     "end_time": "2018-11-02T12:00:49.396445Z",
     "start_time": "2018-11-02T12:00:49.385413Z"
    },
    "hidden": true
   },
   "outputs": [],
   "source": [
    "best_tags_1 = np.argsort(Tags_predict)[:, :-(5+1): -1]"
   ]
  },
  {
   "cell_type": "code",
   "execution_count": 60,
   "metadata": {
    "ExecuteTime": {
     "end_time": "2018-11-02T12:00:49.412484Z",
     "start_time": "2018-11-02T12:00:49.400454Z"
    },
    "hidden": true
   },
   "outputs": [
    {
     "data": {
      "text/plain": [
       "array([['user-interface', 'html', 'javascript', 'winforms', 'jquery']], dtype=object)"
      ]
     },
     "execution_count": 60,
     "metadata": {},
     "output_type": "execute_result"
    }
   ],
   "source": [
    "mlb.classes_[best_tags_1]"
   ]
  }
 ],
 "metadata": {
  "hide_input": false,
  "kernelspec": {
   "display_name": "Python 3",
   "language": "python",
   "name": "python3"
  },
  "language_info": {
   "codemirror_mode": {
    "name": "ipython",
    "version": 3
   },
   "file_extension": ".py",
   "mimetype": "text/x-python",
   "name": "python",
   "nbconvert_exporter": "python",
   "pygments_lexer": "ipython3",
   "version": "3.6.4"
  }
 },
 "nbformat": 4,
 "nbformat_minor": 2
}
